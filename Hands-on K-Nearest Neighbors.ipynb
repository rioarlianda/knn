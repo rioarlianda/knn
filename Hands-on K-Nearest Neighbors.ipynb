{
 "cells": [
  {
   "cell_type": "code",
   "execution_count": 101,
   "id": "acccf02f",
   "metadata": {
    "ExecuteTime": {
     "end_time": "2024-06-21T04:17:18.646645Z",
     "start_time": "2024-06-21T04:17:18.632474Z"
    }
   },
   "outputs": [],
   "source": [
    "# Mengimpor library\n",
    "import numpy as np   #\"numpy\" Digunakan untuk operasi array dan manipulasi data numerik.\n",
    "import pandas as pd  #pandas (pd): Digunakan untuk memanipulasi dan menganalisis data tabular.\n",
    "from sklearn.model_selection import train_test_split, GridSearchCV \n",
    "from sklearn.neighbors import KNeighborsClassifier\n",
    "from sklearn.metrics import accuracy_score, classification_report, confusion_matrix\n",
    "from sklearn.preprocessing import StandardScaler, LabelEncoder"
   ]
  },
  {
   "cell_type": "code",
   "execution_count": 102,
   "id": "6ea10285",
   "metadata": {
    "ExecuteTime": {
     "end_time": "2024-06-21T04:17:21.054250Z",
     "start_time": "2024-06-21T04:17:20.966931Z"
    }
   },
   "outputs": [
    {
     "name": "stdout",
     "output_type": "stream",
     "text": [
      "Lima baris pertama dari dataset:\n",
      "      X1    X2     X3     X4    IPG  CatIPG\n",
      "0  52.38  20.0  64.79  24.04  79.50  Rendah\n",
      "1  58.41  12.0  59.84  29.10  85.23  Rendah\n",
      "2  52.30  10.0  57.65  28.87  92.25  Tinggi\n",
      "3  53.83  10.0  59.40  31.46  93.35  Tinggi\n",
      "4  52.03  10.0  57.52  29.09  87.03  Rendah\n"
     ]
    }
   ],
   "source": [
    "# Membaca data dari file CSV\n",
    "df = pd.read_csv('dataset.csv', sep=';')\n",
    "print(\"Lima baris pertama dari dataset:\")\n",
    "print(df.head())"
   ]
  },
  {
   "cell_type": "code",
   "execution_count": 88,
   "id": "f44bb834",
   "metadata": {
    "ExecuteTime": {
     "end_time": "2024-06-21T02:00:13.992980Z",
     "start_time": "2024-06-21T02:00:13.984019Z"
    }
   },
   "outputs": [
    {
     "name": "stdout",
     "output_type": "stream",
     "text": [
      "\n",
      "Tipe data setiap kolom setelah transformasi:\n",
      "X1        float64\n",
      "X2        float64\n",
      "X3        float64\n",
      "X4        float64\n",
      "IPG       float64\n",
      "CatIPG     object\n",
      "dtype: object\n"
     ]
    }
   ],
   "source": [
    "# Memeriksa tipe data setiap kolom setelah transformasi\n",
    "print(\"\\nTipe data setiap kolom setelah transformasi:\")\n",
    "print(df.dtypes)"
   ]
  },
  {
   "cell_type": "code",
   "execution_count": 89,
   "id": "c713678f",
   "metadata": {
    "ExecuteTime": {
     "end_time": "2024-06-21T02:00:15.522118Z",
     "start_time": "2024-06-21T02:00:15.513873Z"
    }
   },
   "outputs": [],
   "source": [
    "# Label Encoding kolom 'CatIPG'\n",
    "label_encoder = LabelEncoder()\n",
    "df['CatIPG'] = label_encoder.fit_transform(df['CatIPG'])"
   ]
  },
  {
   "cell_type": "code",
   "execution_count": 90,
   "id": "820ac933",
   "metadata": {
    "ExecuteTime": {
     "end_time": "2024-06-21T02:00:18.230809Z",
     "start_time": "2024-06-21T02:00:18.222339Z"
    }
   },
   "outputs": [
    {
     "data": {
      "text/plain": [
       "0      0\n",
       "1      0\n",
       "2      1\n",
       "3      1\n",
       "4      0\n",
       "      ..\n",
       "509    0\n",
       "510    0\n",
       "511    0\n",
       "512    0\n",
       "513    1\n",
       "Name: CatIPG, Length: 514, dtype: int32"
      ]
     },
     "execution_count": 90,
     "metadata": {},
     "output_type": "execute_result"
    }
   ],
   "source": [
    "df['CatIPG']"
   ]
  },
  {
   "cell_type": "code",
   "execution_count": 91,
   "id": "b1ddf59b",
   "metadata": {
    "ExecuteTime": {
     "end_time": "2024-06-21T02:00:21.562689Z",
     "start_time": "2024-06-21T02:00:21.557539Z"
    }
   },
   "outputs": [
    {
     "name": "stdout",
     "output_type": "stream",
     "text": [
      "\n",
      "Tipe data setiap kolom setelah transformasi:\n",
      "X1        float64\n",
      "X2        float64\n",
      "X3        float64\n",
      "X4        float64\n",
      "IPG       float64\n",
      "CatIPG      int32\n",
      "dtype: object\n"
     ]
    }
   ],
   "source": [
    "# Memeriksa tipe data setiap kolom setelah transformasi\n",
    "print(\"\\nTipe data setiap kolom setelah transformasi:\")\n",
    "print(df.dtypes)"
   ]
  },
  {
   "cell_type": "code",
   "execution_count": 92,
   "id": "5a44886e",
   "metadata": {
    "ExecuteTime": {
     "end_time": "2024-06-21T02:00:23.603215Z",
     "start_time": "2024-06-21T02:00:23.598632Z"
    }
   },
   "outputs": [],
   "source": [
    "# Memilih kolom yang akan distandarisasi (dalam contoh ini, semua kecuali 'CatIPG')\n",
    "columns_to_scale = ['X1', 'X2', 'X3', 'X4', 'IPG']"
   ]
  },
  {
   "cell_type": "code",
   "execution_count": 93,
   "id": "d0d6b840",
   "metadata": {
    "ExecuteTime": {
     "end_time": "2024-06-21T02:00:24.966363Z",
     "start_time": "2024-06-21T02:00:24.959182Z"
    }
   },
   "outputs": [],
   "source": [
    "# Memisahkan kolom numerik dan non-numerik\n",
    "X_numerical = df[columns_to_scale]\n",
    "X_non_numerical = df.drop(columns=columns_to_scale)"
   ]
  },
  {
   "cell_type": "code",
   "execution_count": 94,
   "id": "bede132b",
   "metadata": {
    "ExecuteTime": {
     "end_time": "2024-06-21T02:00:26.927232Z",
     "start_time": "2024-06-21T02:00:26.914542Z"
    }
   },
   "outputs": [],
   "source": [
    "# Standarisasi fitur yang dipilih\n",
    "scaler = StandardScaler()\n",
    "X_numerical_scaled = scaler.fit_transform(X_numerical)"
   ]
  },
  {
   "cell_type": "code",
   "execution_count": 95,
   "id": "ec5fc493",
   "metadata": {
    "ExecuteTime": {
     "end_time": "2024-06-21T02:00:29.657363Z",
     "start_time": "2024-06-21T02:00:29.646833Z"
    }
   },
   "outputs": [],
   "source": [
    "# Menggabungkan kembali kolom yang sudah distandarisasi dengan kolom non-numerik\n",
    "X = np.hstack((X_numerical_scaled, X_non_numerical.values))"
   ]
  },
  {
   "cell_type": "code",
   "execution_count": 96,
   "id": "14ef6d3a",
   "metadata": {
    "ExecuteTime": {
     "end_time": "2024-06-21T02:00:31.083994Z",
     "start_time": "2024-06-21T02:00:31.073078Z"
    }
   },
   "outputs": [],
   "source": [
    "# Memisahkan target\n",
    "y = df['CatIPG']"
   ]
  },
  {
   "cell_type": "code",
   "execution_count": 97,
   "id": "4cf88859",
   "metadata": {
    "ExecuteTime": {
     "end_time": "2024-06-21T02:00:34.263716Z",
     "start_time": "2024-06-21T02:00:34.253547Z"
    }
   },
   "outputs": [],
   "source": [
    "# Membagi data menjadi data pelatihan dan pengujian\n",
    "X_train, X_test, y_train, y_test = train_test_split(X, y, test_size=0.2, random_state=42)"
   ]
  },
  {
   "cell_type": "code",
   "execution_count": 110,
   "id": "aa199f4b",
   "metadata": {
    "ExecuteTime": {
     "end_time": "2024-06-21T06:20:30.615014Z",
     "start_time": "2024-06-21T06:20:30.595485Z"
    }
   },
   "outputs": [
    {
     "name": "stdout",
     "output_type": "stream",
     "text": [
      "Dimensi data pelatihan: X_train: (411, 6), y_train: (411,)\n",
      "Dimensi data pengujian: X_test: (103, 6), y_test: (103,)\n"
     ]
    }
   ],
   "source": [
    "# Menampilkan dimensi data pelatihan dan pengujian\n",
    "print(f\"Dimensi data pelatihan: X_train: {X_train.shape}, y_train: {y_train.shape}\")\n",
    "print(f\"Dimensi data pengujian: X_test: {X_test.shape}, y_test: {y_test.shape}\")"
   ]
  },
  {
   "cell_type": "code",
   "execution_count": 105,
   "id": "a7650b17",
   "metadata": {
    "ExecuteTime": {
     "end_time": "2024-06-21T04:19:03.913761Z",
     "start_time": "2024-06-21T04:19:03.901297Z"
    }
   },
   "outputs": [],
   "source": [
    "# Membuat model KNN\n",
    "knn = KNeighborsClassifier()\n",
    "\n",
    "# Menyiapkan parameter untuk tuning\n",
    "params = {\n",
    "    'n_neighbors': [3],  # Mencoba nilai k = 3\n",
    "    'weights': ['uniform', 'distance'],\n",
    "    'metric': ['euclidean', 'manhattan', 'minkowski']\n",
    "}"
   ]
  },
  {
   "cell_type": "code",
   "execution_count": 106,
   "id": "8003d134",
   "metadata": {
    "ExecuteTime": {
     "end_time": "2024-06-21T04:19:06.498331Z",
     "start_time": "2024-06-21T04:19:06.383855Z"
    }
   },
   "outputs": [
    {
     "name": "stdout",
     "output_type": "stream",
     "text": [
      "\n",
      "Parameter Terbaik: {'metric': 'euclidean', 'n_neighbors': 3, 'weights': 'uniform'}\n"
     ]
    }
   ],
   "source": [
    "# Melakukan optimasi dengan GridSearchCV (Cross-validastion)\n",
    "grid_search = GridSearchCV(knn, params, cv=10, scoring='accuracy', n_jobs=-1)\n",
    "grid_search.fit(X_train, y_train)\n",
    "\n",
    "# Menampilkan parameter terbaik\n",
    "print(\"\\nParameter Terbaik:\", grid_search.best_params_)"
   ]
  },
  {
   "cell_type": "code",
   "execution_count": 107,
   "id": "2fe2206f",
   "metadata": {
    "ExecuteTime": {
     "end_time": "2024-06-21T04:19:14.850907Z",
     "start_time": "2024-06-21T04:19:14.245665Z"
    }
   },
   "outputs": [
    {
     "name": "stdout",
     "output_type": "stream",
     "text": [
      "Akurasi: 0.9902912621359223\n",
      "\n",
      "Classification Report:\n",
      "              precision    recall  f1-score   support\n",
      "\n",
      "      Rendah       1.00      0.98      0.99        42\n",
      "      Tinggi       0.98      1.00      0.99        61\n",
      "\n",
      "    accuracy                           0.99       103\n",
      "   macro avg       0.99      0.99      0.99       103\n",
      "weighted avg       0.99      0.99      0.99       103\n",
      "\n",
      "Confusion Matrix:\n"
     ]
    },
    {
     "data": {
      "image/png": "[encoded data removed]",
      "text/plain": [
       "<Figure size 800x600 with 2 Axes>"
      ]
     },
     "metadata": {},
     "output_type": "display_data"
    }
   ],
   "source": [
    "# Memprediksi data pengujian\n",
    "y_pred = grid_search.predict(X_test)\n",
    "\n",
    "# Menghitung akurasi\n",
    "accuracy = accuracy_score(y_test, y_pred)\n",
    "print(\"Akurasi:\", accuracy)\n",
    "\n",
    "# Menghitung dan menampilkan classification report\n",
    "print(\"\\nClassification Report:\")\n",
    "print(classification_report(y_test, y_pred, target_names=['Rendah', 'Tinggi']))\n",
    "\n",
    "# Menghitung dan menampilkan confusion matrix\n",
    "print(\"Confusion Matrix:\")\n",
    "cm = confusion_matrix(y_test, y_pred)\n",
    "plt.figure(figsize=(8, 6))\n",
    "sns.heatmap(cm, annot=True, fmt='d', cmap='Greens', \n",
    "            xticklabels=['IPG Rendah', 'IPG Tinggi'], \n",
    "            yticklabels=['IPG Rendah', 'IPG Tinggi'])\n",
    "plt.title('Confusion Matrix')\n",
    "plt.xlabel('Predicted')\n",
    "plt.ylabel('Actual')\n",
    "plt.show()"
   ]
  }
 ],
 "metadata": {
  "kernelspec": {
   "display_name": "Python 3 (ipykernel)",
   "language": "python",
   "name": "python3"
  },
  "language_info": {
   "codemirror_mode": {
    "name": "ipython",
    "version": 3
   },
   "file_extension": ".py",
   "mimetype": "text/x-python",
   "name": "python",
   "nbconvert_exporter": "python",
   "pygments_lexer": "ipython3",
   "version": "3.11.2"
  },
  "toc": {
   "base_numbering": 1,
   "nav_menu": {},
   "number_sections": true,
   "sideBar": true,
   "skip_h1_title": false,
   "title_cell": "Table of Contents",
   "title_sidebar": "Contents",
   "toc_cell": false,
   "toc_position": {},
   "toc_section_display": true,
   "toc_window_display": false
  },
  "varInspector": {
   "cols": {
    "lenName": 16,
    "lenType": 16,
    "lenVar": 40
   },
   "kernels_config": {
    "python": {
     "delete_cmd_postfix": "",
     "delete_cmd_prefix": "del ",
     "library": "var_list.py",
     "varRefreshCmd": "print(var_dic_list())"
    },
    "r": {
     "delete_cmd_postfix": ") ",
     "delete_cmd_prefix": "rm(",
     "library": "var_list.r",
     "varRefreshCmd": "cat(var_dic_list()) "
    }
   },
   "types_to_exclude": [
    "module",
    "function",
    "builtin_function_or_method",
    "instance",
    "_Feature"
   ],
   "window_display": false
  }
 },
 "nbformat": 4,
 "nbformat_minor": 5
}
